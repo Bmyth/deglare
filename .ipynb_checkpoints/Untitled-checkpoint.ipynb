{
 "cells": [
  {
   "cell_type": "code",
   "execution_count": 1,
   "metadata": {
    "collapsed": true
   },
   "outputs": [],
   "source": [
    "import numpy as np\n",
    "from scipy import misc\n",
    "import tensorflow as tf"
   ]
  },
  {
   "cell_type": "code",
   "execution_count": 15,
   "metadata": {
    "collapsed": false
   },
   "outputs": [],
   "source": [
    "imgSizeB = 400\n",
    "imgSizeS = 100\n",
    "\n",
    "dataX = []\n",
    "dataY = []\n",
    "n = 0\n",
    "for i in range (1, 11):\n",
    "    o = misc.imread('./data/{0}.bmp'.format(i))\n",
    "    for j in range (1, 11):\n",
    "        img = misc.imread('./data/{0}-{1}.bmp'.format(i,j))\n",
    "        for k in range(0, 20):\n",
    "            n = n + 1\n",
    "            r = np.random.randint(0, imgSizeB - imgSizeS, 2)\n",
    "            ix = img[r[0]:r[0]+imgSizeS, r[1]:r[1]+imgSizeS]\n",
    "            iy = o[r[0]:r[0]+imgSizeS, r[1]:r[1]+imgSizeS]\n",
    "            dataX.append(ix)\n",
    "            dataY.append(iy)\n",
    "    "
   ]
  },
  {
   "cell_type": "code",
   "execution_count": 29,
   "metadata": {
    "collapsed": false
   },
   "outputs": [],
   "source": [
    "# from PIL import Image\n",
    "# maks = Image.open(\"mask4.png\")\n",
    "# img = Image.open(\"1.png\")\n",
    "# imgd = Image.alpha_composite(img, maks)\n",
    "# img.paste(maks, (0, 0))"
   ]
  },
  {
   "cell_type": "code",
   "execution_count": 43,
   "metadata": {
    "collapsed": true
   },
   "outputs": [],
   "source": [
    "def conv_net(x, is_train=True):\n",
    "    \"\"\"\n",
    "    Create a convolutional neural network model\n",
    "    : x: Placeholder tensor that holds image data.\n",
    "    : return: Tensor that represents logits\n",
    "    \"\"\"\n",
    "    alpha = 0.1\n",
    "    fliters = 30\n",
    "    kernel_size = 5\n",
    "    \n",
    "    x = tf.layers.conv2d(x, fliters, kernel_size, strides=1, padding='same')\n",
    "    x = tf.layers.conv2d(x, fliters, kernel_size, strides=1, padding='same')\n",
    "#     x = tf.nn.max_pool(x, [1, 2, 2, 1], strides=[1, 1, 1, 1], padding='SAME')\n",
    "    \n",
    "#     x = tf.layers.conv2d(x, fliters, kernel_size, strides=1, padding='same')\n",
    "    x = tf.layers.conv2d(x, 3, kernel_size, strides=1, padding='same')\n",
    "#     x = tf.nn.max_pool(x, [1, 2, 2, 1], strides=[1, 1, 1, 1], padding='SAME')\n",
    "#     x = tf.nn.relu(x)\n",
    "#     x1 = tf.layers.conv2d(x2, 3, kernel_size, strides=1, padding='same')\n",
    "    out = tf.tanh(x) \n",
    "    return out"
   ]
  },
  {
   "cell_type": "code",
   "execution_count": 52,
   "metadata": {
    "collapsed": false
   },
   "outputs": [],
   "source": [
    "tf.reset_default_graph()\n",
    "train_graph = tf.Graph()\n",
    "\n",
    "with train_graph.as_default():\n",
    "    image_shape_width = image_shape_height = 100\n",
    "    image_shape_deep = 3\n",
    "\n",
    "    x = tf.placeholder(tf.float32, [None, None, None, image_shape_deep], name='x')\n",
    "    y = tf.placeholder(tf.float32, [None, None, None, image_shape_deep], name='y')\n",
    "\n",
    "    logits = conv_net(x)\n",
    "    logits = tf.identity(logits, name='logits')\n",
    "    cost = tf.reduce_mean(tf.squared_difference(logits, y))\n",
    "    optimizer = tf.train.AdamOptimizer().minimize(loss=cost)\n",
    "                                "
   ]
  },
  {
   "cell_type": "code",
   "execution_count": 53,
   "metadata": {
    "collapsed": true
   },
   "outputs": [],
   "source": [
    "def get_batch(batch_size):\n",
    "    for start in range(0, len(dataX), batch_size):\n",
    "        end = min(start + batch_size, len(dataX))\n",
    "        yield dataX[start:end], dataY[start:end]"
   ]
  },
  {
   "cell_type": "code",
   "execution_count": 54,
   "metadata": {
    "collapsed": false
   },
   "outputs": [
    {
     "name": "stdout",
     "output_type": "stream",
     "text": [
      "ep:1, n:0, loss:8121.3876953125\n",
      "ep:1, n:1, loss:13642.7578125\n",
      "ep:1, n:2, loss:7690.13916015625\n",
      "ep:1, n:3, loss:5947.9482421875\n",
      "ep:1, n:4, loss:7429.7060546875\n",
      "ep:1, n:5, loss:7548.49609375\n",
      "ep:1, n:6, loss:10034.67578125\n",
      "ep:1, n:7, loss:4438.76806640625\n",
      "ep:1, n:8, loss:2686.070068359375\n",
      "ep:1, n:9, loss:1218.4454345703125\n",
      "ep:1, n:10, loss:2275.232421875\n",
      "ep:1, n:11, loss:2418.599365234375\n",
      "ep:1, n:12, loss:4707.32470703125\n",
      "ep:1, n:13, loss:1754.5325927734375\n",
      "ep:1, n:14, loss:4663.31396484375\n",
      "ep:1, n:15, loss:1411.799072265625\n",
      "ep:1, n:16, loss:3332.925048828125\n",
      "ep:1, n:17, loss:2974.859130859375\n",
      "ep:1, n:18, loss:1603.5037841796875\n",
      "ep:1, n:19, loss:1080.8009033203125\n",
      "ep:1, n:20, loss:2032.701416015625\n",
      "ep:1, n:21, loss:2001.9903564453125\n",
      "ep:1, n:22, loss:3197.6318359375\n",
      "ep:1, n:23, loss:1430.4482421875\n",
      "ep:1, n:24, loss:2750.95458984375\n",
      "ep:1, n:25, loss:2549.992431640625\n",
      "ep:1, n:26, loss:1376.8123779296875\n",
      "ep:1, n:27, loss:2359.4970703125\n",
      "ep:1, n:28, loss:1051.8250732421875\n",
      "ep:1, n:29, loss:1611.4566650390625\n",
      "ep:1, n:30, loss:2852.55810546875\n",
      "ep:1, n:31, loss:2448.061767578125\n",
      "ep:1, n:32, loss:5145.43359375\n",
      "ep:1, n:33, loss:2597.09228515625\n",
      "ep:1, n:34, loss:3170.86474609375\n",
      "ep:1, n:35, loss:4552.33447265625\n",
      "ep:1, n:36, loss:2011.1890869140625\n",
      "ep:1, n:37, loss:4715.22021484375\n",
      "ep:1, n:38, loss:2360.029541015625\n",
      "ep:1, n:39, loss:2259.207763671875\n",
      "ep:1, n:40, loss:548.3716430664062\n",
      "ep:1, n:41, loss:524.0891723632812\n",
      "ep:1, n:42, loss:1233.875244140625\n",
      "ep:1, n:43, loss:1175.773193359375\n",
      "ep:1, n:44, loss:2025.675537109375\n",
      "ep:1, n:45, loss:955.8007202148438\n",
      "ep:1, n:46, loss:1513.0047607421875\n",
      "ep:1, n:47, loss:1558.6212158203125\n",
      "ep:1, n:48, loss:577.1199951171875\n",
      "ep:1, n:49, loss:583.6810302734375\n",
      "ep:1, n:50, loss:346.41375732421875\n",
      "ep:1, n:51, loss:555.0560302734375\n",
      "ep:1, n:52, loss:1393.12744140625\n",
      "ep:1, n:53, loss:1178.9779052734375\n",
      "ep:1, n:54, loss:1932.84326171875\n",
      "ep:1, n:55, loss:631.42529296875\n",
      "ep:1, n:56, loss:1388.950439453125\n",
      "ep:1, n:57, loss:344.015625\n",
      "ep:1, n:58, loss:362.8292541503906\n",
      "ep:1, n:59, loss:618.76025390625\n",
      "ep:1, n:60, loss:956.3400268554688\n",
      "ep:1, n:61, loss:885.34765625\n",
      "ep:1, n:62, loss:3200.838134765625\n",
      "ep:1, n:63, loss:1615.098876953125\n",
      "ep:1, n:64, loss:3352.0556640625\n",
      "ep:1, n:65, loss:1081.9945068359375\n",
      "ep:1, n:66, loss:2779.518310546875\n",
      "ep:1, n:67, loss:541.9402465820312\n",
      "ep:1, n:68, loss:307.43157958984375\n",
      "ep:1, n:69, loss:844.4033813476562\n",
      "ep:1, n:70, loss:1481.3238525390625\n",
      "ep:1, n:71, loss:1123.969482421875\n",
      "ep:1, n:72, loss:2611.814697265625\n",
      "ep:1, n:73, loss:2427.488525390625\n",
      "ep:1, n:74, loss:5736.435546875\n",
      "ep:1, n:75, loss:1337.3106689453125\n",
      "ep:1, n:76, loss:3202.58642578125\n",
      "ep:1, n:77, loss:2342.464599609375\n",
      "ep:1, n:78, loss:1098.8958740234375\n",
      "ep:1, n:79, loss:1418.8369140625\n",
      "ep:1, n:80, loss:3737.245849609375\n",
      "ep:1, n:81, loss:1902.70654296875\n",
      "ep:1, n:82, loss:3451.37353515625\n",
      "ep:1, n:83, loss:3330.91259765625\n",
      "ep:1, n:84, loss:6667.73095703125\n",
      "ep:1, n:85, loss:4239.53125\n",
      "ep:1, n:86, loss:5219.18798828125\n",
      "ep:1, n:87, loss:4109.6533203125\n",
      "ep:1, n:88, loss:3920.364013671875\n",
      "ep:1, n:89, loss:2874.30859375\n",
      "ep:1, n:90, loss:2491.44189453125\n",
      "ep:1, n:91, loss:2221.13427734375\n",
      "ep:1, n:92, loss:1395.6309814453125\n",
      "ep:1, n:93, loss:1689.1246337890625\n",
      "ep:1, n:94, loss:2578.355712890625\n",
      "ep:1, n:95, loss:1096.9945068359375\n",
      "ep:1, n:96, loss:1624.811767578125\n",
      "ep:1, n:97, loss:1868.2353515625\n",
      "ep:1, n:98, loss:2076.3408203125\n",
      "ep:1, n:99, loss:2199.0\n"
     ]
    }
   ],
   "source": [
    "epochs = 1\n",
    "batch_size = 20\n",
    "\n",
    "with tf.Session(graph=train_graph) as sess:\n",
    "    sess.run(tf.global_variables_initializer())\n",
    "    \n",
    "    e = 0\n",
    "    for epoch in range(epochs):\n",
    "        e  = e + 1\n",
    "        n = 0\n",
    "        for dX, dY in get_batch(batch_size):\n",
    "            _, loss = sess.run([optimizer, cost], feed_dict={ x: dX, y: dY})\n",
    "#             if(n == 0):\n",
    "            print('ep:{0}, n:{1}, loss:{2}'.format(e, n, loss))\n",
    "            n = n + 1\n",
    "    \n",
    "    saver = tf.train.Saver()\n",
    "    saver.save(sess, './save')"
   ]
  },
  {
   "cell_type": "code",
   "execution_count": 56,
   "metadata": {
    "collapsed": false
   },
   "outputs": [],
   "source": [
    "import matplotlib.pyplot as plt\n",
    "    \n",
    "def prepareImg(imgpath):\n",
    "    x = np.empty([1, 400, 400, 3])\n",
    "    x[0] = misc.imread(imgpath)\n",
    "    return x\n",
    "\n",
    "loaded_graph = tf.Graph()\n",
    "\n",
    "with tf.Session(graph=loaded_graph) as sess:\n",
    "    # Load model\n",
    "    loader = tf.train.import_meta_graph('./save.meta')\n",
    "    loader.restore(sess, './save')\n",
    "\n",
    "    loaded_x = loaded_graph.get_tensor_by_name('x:0')\n",
    "    loaded_y = loaded_graph.get_tensor_by_name('y:0')\n",
    "    loaded_logits = loaded_graph.get_tensor_by_name('logits:0')\n",
    "    \n",
    "    img = prepareImg('./test.bmp')\n",
    "    result = sess.run(loaded_logits, feed_dict={loaded_x: (img/255 - 0.5)})\n",
    "    imgFinal = (result[0] + 0.5) * 255\n",
    "\n",
    "    misc.imsave('img.bmp', img[0])\n",
    "    misc.imsave('final.bmp', imgFinal)"
   ]
  },
  {
   "cell_type": "code",
   "execution_count": null,
   "metadata": {
    "collapsed": true
   },
   "outputs": [],
   "source": []
  }
 ],
 "metadata": {
  "kernelspec": {
   "display_name": "Python 3",
   "language": "python",
   "name": "python3"
  },
  "language_info": {
   "codemirror_mode": {
    "name": "ipython",
    "version": 3
   },
   "file_extension": ".py",
   "mimetype": "text/x-python",
   "name": "python",
   "nbconvert_exporter": "python",
   "pygments_lexer": "ipython3",
   "version": "3.6.0"
  }
 },
 "nbformat": 4,
 "nbformat_minor": 2
}
