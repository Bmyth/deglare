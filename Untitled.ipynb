{
 "cells": [
  {
   "cell_type": "code",
   "execution_count": 1,
   "metadata": {
    "collapsed": true
   },
   "outputs": [],
   "source": [
    "import numpy as np\n",
    "from scipy import misc\n",
    "import tensorflow as tf\n",
    "from scipy import ndimage"
   ]
  },
  {
   "cell_type": "code",
   "execution_count": 2,
   "metadata": {
    "collapsed": false
   },
   "outputs": [],
   "source": [
    "imgSizeBg = 800\n",
    "imgSizeSm = 100\n",
    "\n",
    "imgNumBk = 50\n",
    "imgNumRf = 20\n",
    "imgLoop = 20\n",
    "\n",
    "def mixImg(img1, img2):\n",
    "    s = 5 - np.random.randint(3)\n",
    "    imgR = ndimage.gaussian_filter(img2, sigma=(s, s, 0))\n",
    "    alpha = 0.2 + 0.1 * np.random.random_sample()\n",
    "    return img1 * (1 - alpha) + imgR * alpha\n",
    "\n",
    "n = 0\n",
    "for i in range (1, imgNumBk+1):\n",
    "    o = misc.imread('./seed/b{0}.bmp'.format(i))\n",
    "    for j in range (0, imgLoop):\n",
    "        r = np.random.randint(0, imgSizeBg - imgSizeSm, 2)\n",
    "        imgb = o[r[0]:r[0]+imgSizeSm, r[1]:r[1]+imgSizeSm]\n",
    "        \n",
    "        idx = np.random.choice(20, 10)\n",
    "        for k in idx:\n",
    "            imgr = misc.imread('./seed/r{0}.bmp'.format(k + 1))\n",
    "            r = np.random.randint(0, 200 - imgSizeSm, 2)\n",
    "            imgr = imgr[r[0]:r[0]+imgSizeSm, r[1]:r[1]+imgSizeSm]\n",
    "            \n",
    "            imgi = mixImg(imgb, imgr)\n",
    "            misc.imsave('./data/x{0}.bmp'.format(n), imgi)\n",
    "            misc.imsave('./data/y{0}.bmp'.format(n), imgb)\n",
    "            n = n + 1\n",
    "            \n",
    "\n",
    "    "
   ]
  },
  {
   "cell_type": "code",
   "execution_count": 55,
   "metadata": {
    "collapsed": false
   },
   "outputs": [],
   "source": [
    "# imgB = misc.imread('./2.bmp')/255\n",
    "# imgR = misc.imread('./3.bmp')/255\n",
    "\n",
    "# def d(x):\n",
    "#     if(x<=1):\n",
    "#         return 0\n",
    "#     return (x - 1) * 0.9\n",
    "# g = np.vectorize(d)\n",
    "# imgI = g(imgI)\n",
    "# misc.imsave('imgI.bmp', imgI)\n",
    "\n",
    "# imgRb = imgRb - imgI \n",
    "\n",
    "# def f(x):\n",
    "#     if(x<0):\n",
    "#         return 0\n",
    "#     return x\n",
    "# g = np.vectorize(f)\n",
    "# imgRb = g(imgRb)\n",
    "# misc.imsave('imgRb.bmp', imgRb)\n",
    "\n",
    "# imgI = imgB + imgRb\n",
    "\n",
    "# def f2(x):\n",
    "#     if(x>1):\n",
    "#         return 1\n",
    "#     return x\n",
    "# g = np.vectorize(f2)\n",
    "# imgI = g(imgI)\n"
   ]
  },
  {
   "cell_type": "code",
   "execution_count": 2,
   "metadata": {
    "collapsed": false
   },
   "outputs": [],
   "source": [
    "dataX = []\n",
    "dataY = []\n",
    "\n",
    "dataNum = 2000\n",
    "\n",
    "idx = np.arange(dataNum)\n",
    "np.random.shuffle(idx)\n",
    "\n",
    "for i in idx:\n",
    "    ix = misc.imread('./data/x{0}.bmp'.format(i+1))\n",
    "    dataX.append(ix/255)\n",
    "    iy = misc.imread('./data/y{0}.bmp'.format(i+1))\n",
    "    dataY.append(iy/255)\n"
   ]
  },
  {
   "cell_type": "code",
   "execution_count": 12,
   "metadata": {
    "collapsed": true
   },
   "outputs": [],
   "source": [
    "def get_batch(batch_size):\n",
    "    for start in range(0, len(dataX), batch_size):\n",
    "        end = min(start + batch_size, len(dataX))\n",
    "        yield dataX[start:end], dataY[start:end]\n",
    "        \n",
    "def conv_net(x, is_train=True):\n",
    "    \"\"\"\n",
    "    Create a convolutional neural network model\n",
    "    : x: Placeholder tensor that holds image data.\n",
    "    : return: Tensor that represents logits\n",
    "    \"\"\"\n",
    "    x = tf.layers.conv2d(x, 256, 3, strides=1, padding='same')\n",
    "    x = tf.nn.relu(x)\n",
    "    x = tf.layers.conv2d(x, 256, 3, strides=1, padding='same')\n",
    "    x = tf.nn.relu(x)\n",
    "#     x = tf.nn.max_pool(x, [1, 2, 2, 1], strides=[1, 2, 2, 1], padding='SAME') \n",
    "    \n",
    "    x = tf.layers.conv2d(x, 128, 3, strides=1, padding='same')\n",
    "    x = tf.nn.relu(x)\n",
    "    x = tf.layers.conv2d(x, 128, 3, strides=1, padding='same')\n",
    "    x = tf.nn.relu(x)\n",
    "#     x = tf.nn.max_pool(x, [1, 2, 2, 1], strides=[1, 2, 2, 1], padding='SAME') \n",
    "    \n",
    "#     x = tf.layers.conv2d(x, 128, 5, strides=1, padding='same')\n",
    "#     x = tf.nn.relu(x)\n",
    "#     x = tf.layers.conv2d(x, 128, 5, strides=1, padding='same')\n",
    "#     x = tf.nn.relu(x)\n",
    "#     x = tf.nn.max_pool(x, [1, 2, 2, 1], strides=[1, 2, 2, 1], padding='SAME') \n",
    "    \n",
    "    x = tf.layers.conv2d(x, 3, 5, strides=1, padding='same')\n",
    "    x = tf.nn.relu(x)\n",
    "\n",
    "    return x"
   ]
  },
  {
   "cell_type": "code",
   "execution_count": null,
   "metadata": {
    "collapsed": true
   },
   "outputs": [],
   "source": [
    "epochs = 1\n",
    "batch_size = 20"
   ]
  },
  {
   "cell_type": "code",
   "execution_count": null,
   "metadata": {
    "collapsed": true
   },
   "outputs": [],
   "source": [
    "# with GPU\n",
    "tf.reset_default_graph()\n",
    "train_graph = tf.Graph()\n",
    "\n",
    "# with train_graph.as_default():\n",
    "image_shape_deep = 3\n",
    "with tf.device('/gpu:0'):\n",
    "    x = tf.placeholder(tf.float32, [None, None, None, image_shape_deep], name='x')\n",
    "    y = tf.placeholder(tf.float32, [None, None, None, image_shape_deep], name='y')\n",
    "\n",
    "    logits = conv_net(x)\n",
    "    logits = tf.identity(logits, name='logits')\n",
    "    cost = tf.reduce_mean(tf.squared_difference(logits, y))\n",
    "    optimizer = tf.train.AdamOptimizer().minimize(loss=cost)\n",
    "    \n",
    "sess = tf.Session(config=tf.ConfigProto(log_device_placement=True))\n",
    "sess.run(tf.global_variables_initializer())\n",
    "\n",
    "e = 0\n",
    "for epoch in range(epochs):\n",
    "    e  = e + 1\n",
    "    n = 0\n",
    "    for dX, dY in get_batch(batch_size):\n",
    "        print(len(dX))\n",
    "        _, loss = sess.run([optimizer, cost], feed_dict={ x: dX, y: dY})\n",
    "        print('ep:{0}, n:{1}, loss:{2}'.format(e, n, loss))\n",
    "        n = n + 1\n",
    "saver = tf.train.Saver()\n",
    "saver.save(sess, './save')"
   ]
  },
  {
   "cell_type": "code",
   "execution_count": null,
   "metadata": {
    "collapsed": true
   },
   "outputs": [],
   "source": [
    "# no GPU\n",
    "tf.reset_default_graph()\n",
    "train_graph = tf.Graph()\n",
    "\n",
    "with train_graph.as_default():\n",
    "    image_shape_deep = 3\n",
    "\n",
    "    x = tf.placeholder(tf.float32, [None, None, None, image_shape_deep], name='x')\n",
    "    y = tf.placeholder(tf.float32, [None, None, None, image_shape_deep], name='y')\n",
    "\n",
    "    logits = conv_net(x)\n",
    "    logits = tf.identity(logits, name='logits')\n",
    "    cost = tf.reduce_mean(tf.squared_difference(logits, y))\n",
    "    optimizer = tf.train.AdamOptimizer().minimize(loss=cost)\n",
    "    \n",
    "with tf.Session(graph=train_graph) as sess:\n",
    "    sess.run(tf.global_variables_initializer())\n",
    "    e = 0\n",
    "    for epoch in range(epochs):\n",
    "        e  = e + 1\n",
    "        n = 0\n",
    "        for dX, dY in get_batch(batch_size):\n",
    "            print(len(dX))\n",
    "            _, loss = sess.run([optimizer, cost], feed_dict={ x: dX, y: dY})\n",
    "            print('ep:{0}, n:{1}, loss:{2}'.format(e, n, loss))\n",
    "            n = n + 1\n",
    "    saver = tf.train.Saver()\n",
    "    saver.save(sess, './save')"
   ]
  },
  {
   "cell_type": "code",
   "execution_count": 11,
   "metadata": {
    "collapsed": false
   },
   "outputs": [],
   "source": [
    "def prepareImg(imgpath):\n",
    "    x = np.empty([1, 800, 800, 3])\n",
    "    x[0] = misc.imread(imgpath)\n",
    "    return x\n",
    "\n",
    "loaded_graph = tf.Graph()\n",
    "\n",
    "with tf.Session(graph=loaded_graph) as sess:\n",
    "    # Load model\n",
    "    loader = tf.train.import_meta_graph('./save.meta')\n",
    "    loader.restore(sess, './save')\n",
    "\n",
    "    loaded_x = loaded_graph.get_tensor_by_name('x:0')\n",
    "    loaded_y = loaded_graph.get_tensor_by_name('y:0')\n",
    "    loaded_logits = loaded_graph.get_tensor_by_name('logits:0')\n",
    "    \n",
    "    img = prepareImg('./b1.bmp')\n",
    "    result = sess.run(loaded_logits, feed_dict={loaded_x: (img/255)})\n",
    "    imgFinal = (result[0]) * 255\n",
    "\n",
    "    misc.imsave('final.bmp', imgFinal)"
   ]
  },
  {
   "cell_type": "code",
   "execution_count": null,
   "metadata": {
    "collapsed": true
   },
   "outputs": [],
   "source": [
    "i = misc.imread('result.bmp')\n",
    "import matplotlib.pyplot as plt\n",
    "plt.imshow(i)\n",
    "plt.show()"
   ]
  }
 ],
 "metadata": {
  "kernelspec": {
   "display_name": "Python 3",
   "language": "python",
   "name": "python3"
  },
  "language_info": {
   "codemirror_mode": {
    "name": "ipython",
    "version": 3
   },
   "file_extension": ".py",
   "mimetype": "text/x-python",
   "name": "python",
   "nbconvert_exporter": "python",
   "pygments_lexer": "ipython3",
   "version": "3.6.0"
  }
 },
 "nbformat": 4,
 "nbformat_minor": 2
}
